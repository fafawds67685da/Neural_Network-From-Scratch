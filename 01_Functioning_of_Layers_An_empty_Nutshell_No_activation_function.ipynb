{
  "cells": [
    {
      "cell_type": "code",
      "source": [
        "import numpy as n\n",
        "import matplotlib.pyplot as m"
      ],
      "metadata": {
        "id": "raChYYnqXem3"
      },
      "execution_count": 2,
      "outputs": []
    },
    {
      "cell_type": "code",
      "source": [
        "inputs = [1.2, 5.1, 2.1]\n",
        "weights = [3.1, 2.1, 8.7]\n",
        "bias = 3\n",
        "\n",
        "output = inputs[0]*weights[0] + inputs[1]*weights[1] + inputs[2]*weights[2] + bias\n",
        "output"
      ],
      "metadata": {
        "colab": {
          "base_uri": "https://localhost:8080/"
        },
        "id": "5jCT7YmaX5QX",
        "outputId": "34b88361-7ed7-4d72-f1b5-5b5c56f7c3eb"
      },
      "execution_count": 2,
      "outputs": [
        {
          "output_type": "execute_result",
          "data": {
            "text/plain": [
              "35.7"
            ]
          },
          "metadata": {},
          "execution_count": 2
        }
      ]
    },
    {
      "cell_type": "code",
      "source": [
        "inputs = [1, 2, 3]\n",
        "weights = [0.2, 0.8, -0.5]\n",
        "bias = 2\n",
        "\n",
        "output = inputs[0]*weights[0] + inputs[1]*weights[1] + inputs[2]*weights[2] + bias\n",
        "output"
      ],
      "metadata": {
        "colab": {
          "base_uri": "https://localhost:8080/"
        },
        "id": "y7f1aiaHYQkv",
        "outputId": "1ac01d5d-62f9-4bfb-848f-50c5a428385e"
      },
      "execution_count": 3,
      "outputs": [
        {
          "output_type": "execute_result",
          "data": {
            "text/plain": [
              "2.3"
            ]
          },
          "metadata": {},
          "execution_count": 3
        }
      ]
    },
    {
      "cell_type": "code",
      "source": [
        "inputs = [1, 2, 3, 2.5]\n",
        "weights = [0.2, 0.8, -0.5, 1]\n",
        "bias = 2\n",
        "\n",
        "output = inputs[0]*weights[0] + inputs[1]*weights[1] + inputs[2]*weights[2] +inputs[3]*weights[3]+ bias\n",
        "output"
      ],
      "metadata": {
        "colab": {
          "base_uri": "https://localhost:8080/"
        },
        "id": "RNVz35eiZEiW",
        "outputId": "b7be290b-eda8-42e2-d686-1a281030148a"
      },
      "execution_count": 4,
      "outputs": [
        {
          "output_type": "execute_result",
          "data": {
            "text/plain": [
              "4.8"
            ]
          },
          "metadata": {},
          "execution_count": 4
        }
      ]
    },
    {
      "cell_type": "code",
      "source": [
        "inputs = [1, 2, 3, 2.5]\n",
        "weights1 = [0.2, 0.8, -0.5, 1.0]\n",
        "weights2 = [0.5, -0.91, 0.26, -0.5]\n",
        "weights3 = [-0.26, -0.27, 0.17, 0.87]\n",
        "bias1 = 2\n",
        "bias2 = 3\n",
        "bias3 = 0.5\n",
        "\n",
        "output = [inputs[0]*weights1[0] + inputs[1]*weights1[1] + inputs[2]*weights1[2] +inputs[3]*weights1[3]+ bias1,\n",
        "          inputs[0]*weights2[0] + inputs[1]*weights2[1] + inputs[2]*weights2[2] +inputs[3]*weights2[3]+ bias2,\n",
        "          inputs[0]*weights3[0] + inputs[1]*weights3[1] + inputs[2]*weights3[2] +inputs[3]*weights3[3]+ bias3]\n",
        "output"
      ],
      "metadata": {
        "colab": {
          "base_uri": "https://localhost:8080/"
        },
        "id": "W64Axd6CQfRl",
        "outputId": "91b32a62-bfc9-4ac8-f349-05f1593088c7"
      },
      "execution_count": 5,
      "outputs": [
        {
          "output_type": "execute_result",
          "data": {
            "text/plain": [
              "[4.8, 1.21, 2.385]"
            ]
          },
          "metadata": {},
          "execution_count": 5
        }
      ]
    },
    {
      "cell_type": "code",
      "source": [
        "inputs = [1, 2, 3, 2.5]\n",
        "\n",
        "weights=[[0.2, 0.8, -0.5, 1.0],\n",
        "         [0.5, -0.91, 0.26, -0.5],\n",
        "         [-0.26, -0.27, 0.17, 0.87]]\n",
        "\n",
        "biases = [2,3,0.5]\n",
        "\n",
        "layer_outputs = []\n",
        "for neuron_weights, neuron_biases in zip(weights, biases):\n",
        "  neuron_output = 0\n",
        "  for n_input, weight in zip(inputs, neuron_weights):\n",
        "    neuron_output += n_input*weight\n",
        "  neuron_output += neuron_biases\n",
        "  layer_outputs.append(neuron_output)\n",
        "\n",
        "layer_outputs"
      ],
      "metadata": {
        "colab": {
          "base_uri": "https://localhost:8080/"
        },
        "id": "fkdE6hLAR_Oa",
        "outputId": "a30b1517-79e0-4bb8-a783-1411e5f396ff"
      },
      "execution_count": 6,
      "outputs": [
        {
          "output_type": "execute_result",
          "data": {
            "text/plain": [
              "[4.8, 1.21, 2.385]"
            ]
          },
          "metadata": {},
          "execution_count": 6
        }
      ]
    },
    {
      "cell_type": "code",
      "source": [
        "inputs = [1, 2, 3, 2.5]\n",
        "\n",
        "weights=[0.2, 0.8, -0.5, 1.0]\n",
        "bias = 2\n",
        "\n",
        "output = n.dot(inputs, weights) + bias\n",
        "\n",
        "output"
      ],
      "metadata": {
        "colab": {
          "base_uri": "https://localhost:8080/"
        },
        "id": "FBbSKktCZdZy",
        "outputId": "a48e3f54-0457-41fd-bca0-01009ba9213f"
      },
      "execution_count": 7,
      "outputs": [
        {
          "output_type": "execute_result",
          "data": {
            "text/plain": [
              "4.8"
            ]
          },
          "metadata": {},
          "execution_count": 7
        }
      ]
    },
    {
      "cell_type": "code",
      "source": [
        "inputs = [1, 2, 3, 2.5]\n",
        "\n",
        "weights=[[0.2, 0.8, -0.5, 1.0],\n",
        "         [0.5, -0.91, 0.26, -0.5],\n",
        "         [-0.26, -0.27, 0.17, 0.87]]\n",
        "\n",
        "biases = [2,3,0.5]\n",
        "\n",
        "output = n.dot(weights, inputs) + biases\n",
        "\n",
        "output"
      ],
      "metadata": {
        "colab": {
          "base_uri": "https://localhost:8080/"
        },
        "id": "ktuKSbGPZ_O0",
        "outputId": "9902240f-6ddc-430b-a737-b314197648b0"
      },
      "execution_count": 8,
      "outputs": [
        {
          "output_type": "execute_result",
          "data": {
            "text/plain": [
              "array([4.8  , 1.21 , 2.385])"
            ]
          },
          "metadata": {},
          "execution_count": 8
        }
      ]
    },
    {
      "cell_type": "code",
      "source": [
        "inputs = [1, 2, 3, 2.5]\n",
        "\n",
        "weights=[[0.2, 0.8, -0.5, 1.0],\n",
        "         [0.5, -0.91, 0.26, -0.5],\n",
        "         [-0.26, -0.27, 0.17, 0.87]]\n",
        "\n",
        "biases = [2,3,0.5]\n",
        "\n",
        "output = n.dot(inputs, weights) + biases\n",
        "\n",
        "output"
      ],
      "metadata": {
        "colab": {
          "base_uri": "https://localhost:8080/",
          "height": 211
        },
        "id": "lPcSlQxXand7",
        "outputId": "3ca614fa-5e52-4ac3-d790-58962efa97f3"
      },
      "execution_count": 9,
      "outputs": [
        {
          "output_type": "error",
          "ename": "ValueError",
          "evalue": "shapes (4,) and (3,4) not aligned: 4 (dim 0) != 3 (dim 0)",
          "traceback": [
            "\u001b[0;31m---------------------------------------------------------------------------\u001b[0m",
            "\u001b[0;31mValueError\u001b[0m                                Traceback (most recent call last)",
            "\u001b[0;32m<ipython-input-9-dcfbfe833638>\u001b[0m in \u001b[0;36m<cell line: 0>\u001b[0;34m()\u001b[0m\n\u001b[1;32m      7\u001b[0m \u001b[0mbiases\u001b[0m \u001b[0;34m=\u001b[0m \u001b[0;34m[\u001b[0m\u001b[0;36m2\u001b[0m\u001b[0;34m,\u001b[0m\u001b[0;36m3\u001b[0m\u001b[0;34m,\u001b[0m\u001b[0;36m0.5\u001b[0m\u001b[0;34m]\u001b[0m\u001b[0;34m\u001b[0m\u001b[0;34m\u001b[0m\u001b[0m\n\u001b[1;32m      8\u001b[0m \u001b[0;34m\u001b[0m\u001b[0m\n\u001b[0;32m----> 9\u001b[0;31m \u001b[0moutput\u001b[0m \u001b[0;34m=\u001b[0m \u001b[0mn\u001b[0m\u001b[0;34m.\u001b[0m\u001b[0mdot\u001b[0m\u001b[0;34m(\u001b[0m\u001b[0minputs\u001b[0m\u001b[0;34m,\u001b[0m \u001b[0mweights\u001b[0m\u001b[0;34m)\u001b[0m \u001b[0;34m+\u001b[0m \u001b[0mbiases\u001b[0m\u001b[0;34m\u001b[0m\u001b[0;34m\u001b[0m\u001b[0m\n\u001b[0m\u001b[1;32m     10\u001b[0m \u001b[0;34m\u001b[0m\u001b[0m\n\u001b[1;32m     11\u001b[0m \u001b[0moutput\u001b[0m\u001b[0;34m\u001b[0m\u001b[0;34m\u001b[0m\u001b[0m\n",
            "\u001b[0;31mValueError\u001b[0m: shapes (4,) and (3,4) not aligned: 4 (dim 0) != 3 (dim 0)"
          ]
        }
      ]
    },
    {
      "cell_type": "code",
      "source": [
        "inputs = [[1, 2, 3, 2.5],\n",
        "            [2.0, 5.0, -1.0, 2.0],\n",
        "            [-1.5, 2.7, 3.3, -0.8]]\n",
        "\n",
        "weights=[[0.2, 0.8, -0.5, 1.0],\n",
        "         [0.5, -0.91, 0.26, -0.5],\n",
        "         [-0.26, -0.27, 0.17, 0.87]]\n",
        "\n",
        "biases = [2,3,0.5]\n",
        "\n",
        "output = n.dot(weights, inputs) + biases\n",
        "\n",
        "output"
      ],
      "metadata": {
        "id": "xqrRRzeJhK29"
      },
      "execution_count": null,
      "outputs": []
    },
    {
      "cell_type": "code",
      "source": [
        "inputs = [[1, 2, 3, 2.5],          #transposing the matrix of weights to get the dot product\n",
        "            [2.0, 5.0, -1.0, 2.0],\n",
        "            [-1.5, 2.7, 3.3, -0.8]]\n",
        "\n",
        "weights=[[0.2, 0.8, -0.5, 1.0],\n",
        "         [0.5, -0.91, 0.26, -0.5],\n",
        "         [-0.26, -0.27, 0.17, 0.87]]\n",
        "\n",
        "\n",
        "biases = [2,3,0.5]\n",
        "\n",
        "output = n.dot(inputs, n.array(weights).T) + biases\n",
        "\n",
        "output"
      ],
      "metadata": {
        "colab": {
          "base_uri": "https://localhost:8080/"
        },
        "id": "s9vKWTXXluBD",
        "outputId": "f33b8d85-f1d3-423e-a81d-153ba8e41a78"
      },
      "execution_count": 11,
      "outputs": [
        {
          "output_type": "execute_result",
          "data": {
            "text/plain": [
              "array([[ 4.8  ,  1.21 ,  2.385],\n",
              "       [ 8.9  , -1.81 ,  0.2  ],\n",
              "       [ 1.41 ,  1.051,  0.026]])"
            ]
          },
          "metadata": {},
          "execution_count": 11
        }
      ]
    },
    {
      "cell_type": "code",
      "source": [
        "inputs = [[1, 2, 3, 2.5],          #transposing the matrix of weights to get the dot product\n",
        "            [2.0, 5.0, -1.0, 2.0],\n",
        "            [-1.5, 2.7, 3.3, -0.8]]\n",
        "\n",
        "weights=[[0.2, 0.8, -0.5, 1.0],\n",
        "         [0.5, -0.91, 0.26, -0.5],\n",
        "         [-0.26, -0.27, 0.17, 0.87]]\n",
        "\n",
        "\n",
        "biases = [2,3,0.5]\n",
        "weights2 = [[0.1, -0.14, 0.5],\n",
        "            [-0.5, 0.12, -0.33],\n",
        "            [-0.44, 0.73, -0.13]]\n",
        "\n",
        "biases2 = [-1, 2, -0.5]\n",
        "\n",
        "layer1_output = n.dot(inputs, n.array(weights).T) + biases\n",
        "\n",
        "layer2_output = n.dot(layer1_output, n.array(weights2).T) + biases2\n",
        "\n",
        "layer2_output"
      ],
      "metadata": {
        "colab": {
          "base_uri": "https://localhost:8080/"
        },
        "id": "pquoE9uynvln",
        "outputId": "d89c83af-ba27-48db-947b-2549ce0bbfe9"
      },
      "execution_count": 10,
      "outputs": [
        {
          "output_type": "execute_result",
          "data": {
            "text/plain": [
              "array([[ 0.5031 , -1.04185, -2.03875],\n",
              "       [ 0.2434 , -2.7332 , -5.7633 ],\n",
              "       [-0.99314,  1.41254, -0.35655]])"
            ]
          },
          "metadata": {},
          "execution_count": 10
        }
      ]
    },
    {
      "cell_type": "code",
      "source": [
        "X        = [[1, 2, 3, 2.5],         # Here X, is set of inputs having\n",
        "            [2.0, 5.0, -1.0, 2.0],  # 3 different sets (samples) of 4 input values.\n",
        "            [-1.5, 2.7, 3.3, -0.8]] #\n",
        "n.random.seed(0)\n",
        "\n",
        "class Layer_Dense:\n",
        "  def __init__(self, n_inputs, n_neurons):\n",
        "    self.weights = 0.10* n.random.randn(n_inputs, n_neurons)\n",
        "    self.biases = n.zeros((1, n_neurons))    #Shape: (1×5), meaning one bias per output neuron.\n",
        "  def forward(self, inputs ):\n",
        "    self.output = n.dot(inputs, self.weights) + self.biases\n",
        "\n",
        "layer1 = Layer_Dense(4,5) #4 → Number of input neurons (matches the number of features in each sample).\n",
        "                          #5 → Number of output neurons (the layer transforms the input into 5 outputs per sample).\n",
        "                          #Shape: (4×5) → Because each of the 4 input neurons is connected to each of the 5 output neurons.\n",
        "layer2 = Layer_Dense(5,2)\n",
        "\n",
        "layer1.forward(X)\n",
        "print(\"Layer 1 \\n\",layer1.output) #(3×5) output means:\n",
        "                     #You got 5 output values per sample (from 5 output neurons).\n",
        "                     #Since you had 3 different input samples, you got 3 sets of 5 outputs.\n",
        "layer2.forward(layer1.output)\n",
        "print(\"Layer 2 \\n\",layer2.output)"
      ],
      "metadata": {
        "colab": {
          "base_uri": "https://localhost:8080/"
        },
        "id": "GeSBBG01ybFA",
        "outputId": "ec57a377-73e3-400c-ed04-0374f958407f"
      },
      "execution_count": 9,
      "outputs": [
        {
          "output_type": "stream",
          "name": "stdout",
          "text": [
            "Layer 1 \n",
            " [[ 0.10758131  1.03983522  0.24462411  0.31821498  0.18851053]\n",
            " [-0.08349796  0.70846411  0.00293357  0.44701525  0.36360538]\n",
            " [-0.50763245  0.55688422  0.07987797 -0.34889573  0.04553042]]\n",
            "Layer 2 \n",
            " [[ 0.148296   -0.08397602]\n",
            " [ 0.14100315 -0.01340469]\n",
            " [ 0.20124979 -0.07290616]]\n"
          ]
        }
      ]
    }
  ],
  "metadata": {
    "colab": {
      "provenance": []
    },
    "kernelspec": {
      "display_name": "Python 3",
      "name": "python3"
    },
    "language_info": {
      "name": "python"
    }
  },
  "nbformat": 4,
  "nbformat_minor": 0
}